{
 "cells": [
  {
   "cell_type": "code",
   "execution_count": 23,
   "metadata": {},
   "outputs": [],
   "source": [
    "import os\n",
    "from os import listdir\n",
    "import json\n",
    "import pandas as pd"
   ]
  },
  {
   "cell_type": "code",
   "execution_count": 24,
   "metadata": {},
   "outputs": [
    {
     "name": "stdout",
     "output_type": "stream",
     "text": [
      "['Aspark OWL', 'Audi e-tron GT', 'Audi Q4 e-tron', 'Audi Q8 e-tron', 'BMW i4', 'BMW i7', 'BMW iX', 'BMW iX1', 'BMW iX3', 'BrightDrop Zevo', 'Cadillac Lyriq', 'Chevrolet Bolt EUV', 'Chevrolet Bolt EV', 'Cupra Born', 'DS 3 Crossback E-Tense', 'Fiat New 500', 'Fisker Ocean', 'Ford E-Transit', 'Ford F-150 Lightning', 'Ford Mustang Mach-E', 'Genesis Electrified G80', 'Genesis Electrified GV70', 'Genesis GV60', 'GMC Hummer EV', 'Honda e', 'Hyundai Ioniq 5', 'Hyundai Ioniq 6', 'Hyundai Kona Electric', 'Jaguar I-Pace', 'Kia EV6', 'Kia Niro EV-e-Niro', 'Kia Soul EV', 'Lexus RZ', 'Lexus UX 300e', 'Lightyear 0', 'Lordstown Endurance', 'Lotus Eletre', 'Lotus Evija', 'Lucid Air', 'Mazda MX-30', 'Mercedes-Benz EQA', 'Mercedes-Benz EQB', 'Mercedes-Benz EQC', 'Mercedes-Benz EQE', 'Mercedes-Benz EQS', 'Mercedes-Benz EQS SUV', 'Mercedes-Benz EQV', 'Mini Electric-Cooper SE', 'Nissan Ariya', 'Nissan e-NV200', 'Nissan Leaf', 'Pininfarina Battista', 'Polestar 2', 'Porsche Taycan', 'Rimac Nevera', 'Rivian R1S', 'Rivian R1T', 'Subaru Solterra', 'Tesla Model 3', 'Tesla Model S', 'Tesla Model X', 'Tesla Model Y', 'Tesla Roadster', 'Toyota bZ4X', 'Volkswagen e-Up!', 'Volkswagen ID. Buzz', 'Volkswagen ID.3', 'Volkswagen ID.4', 'Volkswagen ID.5', 'Volvo C40 Recharge', 'Volvo XC40 Recharge']\n"
     ]
    }
   ],
   "source": [
    "print(listdir('Electric Vehicles'))"
   ]
  },
  {
   "cell_type": "code",
   "execution_count": 25,
   "metadata": {},
   "outputs": [
    {
     "name": "stdout",
     "output_type": "stream",
     "text": [
      "{'battery type': 'Lithium-ion', 'Battery Capacity (Usable)': 64, 'Battery Capacity (Gross)': 69, 'Units': 'kWh'}\n"
     ]
    }
   ],
   "source": [
    "with open(f\"Electric Vehicles/Aspark OWL/battery.json\") as f:\n",
    "    content = json.load(f)\n",
    "print(content)"
   ]
  },
  {
   "cell_type": "code",
   "execution_count": 26,
   "metadata": {},
   "outputs": [],
   "source": [
    "df = pd.DataFrame(columns=[\"Car\", \"Battery Type\", \"Battery Capacity (Usable)\", \"Battery Capacity (Gross)\", \"Units\"])\n",
    "\n",
    "\n",
    "for car in listdir(\"Electric Vehicles\"):\n",
    "    with open(f\"Electric Vehicles/{car}/battery.json\") as f:\n",
    "        content = json.load(f)\n",
    "        data = [car, content[\"battery type\"], content[\"Battery Capacity (Usable)\"], content[\"Battery Capacity (Gross)\"], content[\"Units\"]]\n",
    "        df.loc[len(df)] = data\n",
    "df.head()\n",
    "df.to_csv(\"car_battery.csv\")"
   ]
  }
 ],
 "metadata": {
  "kernelspec": {
   "display_name": "torch",
   "language": "python",
   "name": "python3"
  },
  "language_info": {
   "codemirror_mode": {
    "name": "ipython",
    "version": 3
   },
   "file_extension": ".py",
   "mimetype": "text/x-python",
   "name": "python",
   "nbconvert_exporter": "python",
   "pygments_lexer": "ipython3",
   "version": "3.9.15"
  },
  "orig_nbformat": 4
 },
 "nbformat": 4,
 "nbformat_minor": 2
}
