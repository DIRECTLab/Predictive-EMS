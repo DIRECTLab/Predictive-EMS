{
 "cells": [
  {
   "attachments": {},
   "cell_type": "markdown",
   "metadata": {},
   "source": [
    "# Revamp on Data Exploration due to Poor splitting of train/valid/test data"
   ]
  },
  {
   "cell_type": "code",
   "execution_count": 115,
   "metadata": {},
   "outputs": [],
   "source": [
    "import pandas as pd\n",
    "import matplotlib.pyplot as plt\n",
    "from scipy import io\n",
    "from sklearn.model_selection import train_test_split"
   ]
  },
  {
   "attachments": {},
   "cell_type": "markdown",
   "metadata": {},
   "source": [
    "## Carvana Data"
   ]
  },
  {
   "cell_type": "code",
   "execution_count": 116,
   "metadata": {},
   "outputs": [
    {
     "data": {
      "text/html": [
       "<div>\n",
       "<style scoped>\n",
       "    .dataframe tbody tr th:only-of-type {\n",
       "        vertical-align: middle;\n",
       "    }\n",
       "\n",
       "    .dataframe tbody tr th {\n",
       "        vertical-align: top;\n",
       "    }\n",
       "\n",
       "    .dataframe thead th {\n",
       "        text-align: right;\n",
       "    }\n",
       "</style>\n",
       "<table border=\"1\" class=\"dataframe\">\n",
       "  <thead>\n",
       "    <tr style=\"text-align: right;\">\n",
       "      <th></th>\n",
       "      <th>id</th>\n",
       "      <th>year</th>\n",
       "      <th>make</th>\n",
       "      <th>model</th>\n",
       "      <th>trim1</th>\n",
       "      <th>trim2</th>\n",
       "      <th>label</th>\n",
       "    </tr>\n",
       "  </thead>\n",
       "  <tbody>\n",
       "    <tr>\n",
       "      <th>0</th>\n",
       "      <td>0004d4463b50</td>\n",
       "      <td>2014.0</td>\n",
       "      <td>Acura</td>\n",
       "      <td>TL</td>\n",
       "      <td>TL</td>\n",
       "      <td>w/SE</td>\n",
       "      <td>Acura TL</td>\n",
       "    </tr>\n",
       "    <tr>\n",
       "      <th>1</th>\n",
       "      <td>00087a6bd4dc</td>\n",
       "      <td>2014.0</td>\n",
       "      <td>Acura</td>\n",
       "      <td>RLX</td>\n",
       "      <td>RLX</td>\n",
       "      <td>w/Tech</td>\n",
       "      <td>Acura RLX</td>\n",
       "    </tr>\n",
       "    <tr>\n",
       "      <th>2</th>\n",
       "      <td>000aa097d423</td>\n",
       "      <td>2012.0</td>\n",
       "      <td>Mazda</td>\n",
       "      <td>MAZDA6</td>\n",
       "      <td>MAZDA6</td>\n",
       "      <td>i Sport</td>\n",
       "      <td>Mazda MAZDA6</td>\n",
       "    </tr>\n",
       "    <tr>\n",
       "      <th>3</th>\n",
       "      <td>000f19f6e7d4</td>\n",
       "      <td>2016.0</td>\n",
       "      <td>Chevrolet</td>\n",
       "      <td>Camaro</td>\n",
       "      <td>Camaro</td>\n",
       "      <td>SS</td>\n",
       "      <td>Chevrolet Camaro</td>\n",
       "    </tr>\n",
       "    <tr>\n",
       "      <th>4</th>\n",
       "      <td>00144e887ae9</td>\n",
       "      <td>2015.0</td>\n",
       "      <td>Acura</td>\n",
       "      <td>TLX</td>\n",
       "      <td>TLX</td>\n",
       "      <td>SH-AWD V6 w/Advance Pkg</td>\n",
       "      <td>Acura TLX</td>\n",
       "    </tr>\n",
       "  </tbody>\n",
       "</table>\n",
       "</div>"
      ],
      "text/plain": [
       "             id    year       make   model   trim1                    trim2  \\\n",
       "0  0004d4463b50  2014.0      Acura      TL      TL                     w/SE   \n",
       "1  00087a6bd4dc  2014.0      Acura     RLX     RLX                   w/Tech   \n",
       "2  000aa097d423  2012.0      Mazda  MAZDA6  MAZDA6                  i Sport   \n",
       "3  000f19f6e7d4  2016.0  Chevrolet  Camaro  Camaro                       SS   \n",
       "4  00144e887ae9  2015.0      Acura     TLX     TLX  SH-AWD V6 w/Advance Pkg   \n",
       "\n",
       "              label  \n",
       "0          Acura TL  \n",
       "1         Acura RLX  \n",
       "2      Mazda MAZDA6  \n",
       "3  Chevrolet Camaro  \n",
       "4         Acura TLX  "
      ]
     },
     "execution_count": 116,
     "metadata": {},
     "output_type": "execute_result"
    }
   ],
   "source": [
    "df = pd.read_csv('../data/metadata_data-source2.csv')\n",
    "df = df.dropna()\n",
    "\n",
    "df[\"label\"] = df[\"make\"] + \" \" + df[\"model\"]\n",
    "df.head()"
   ]
  },
  {
   "attachments": {},
   "cell_type": "markdown",
   "metadata": {},
   "source": [
    "## Stanford Data"
   ]
  },
  {
   "cell_type": "code",
   "execution_count": 117,
   "metadata": {},
   "outputs": [
    {
     "name": "stdout",
     "output_type": "stream",
     "text": [
      "AM General Hummer\n",
      "Acura RL\n",
      "Acura TL\n",
      "Acura TL\n",
      "Acura TSX\n",
      "Acura Integra Type\n",
      "Acura ZDX\n",
      "Aston Martin V8 Vantage\n",
      "Aston Martin V8 Vantage\n",
      "Aston Martin Virage\n"
     ]
    }
   ],
   "source": [
    "df2 = pd.read_csv(\"../data/cardatasettrain.csv\")\n",
    "df2.head()\n",
    "\n",
    "labels_for_2 = io.loadmat('../data/cars_annos.mat')['class_names'][0]\n",
    "fixed_labels_for_2 = []\n",
    "for label in labels_for_2:\n",
    "    split_label = label[0].split(' ')\n",
    "    make = split_label[0:-2]\n",
    "    year = split_label[-1]\n",
    "    fixed_labels_for_2.append(f'{\" \".join(make)}')\n",
    "\n",
    "for i in range(10):\n",
    "    print(fixed_labels_for_2[i])"
   ]
  },
  {
   "attachments": {},
   "cell_type": "markdown",
   "metadata": {},
   "source": [
    "## Generate Combined Data CSV"
   ]
  },
  {
   "cell_type": "code",
   "execution_count": 118,
   "metadata": {},
   "outputs": [
    {
     "data": {
      "text/html": [
       "<div>\n",
       "<style scoped>\n",
       "    .dataframe tbody tr th:only-of-type {\n",
       "        vertical-align: middle;\n",
       "    }\n",
       "\n",
       "    .dataframe tbody tr th {\n",
       "        vertical-align: top;\n",
       "    }\n",
       "\n",
       "    .dataframe thead th {\n",
       "        text-align: right;\n",
       "    }\n",
       "</style>\n",
       "<table border=\"1\" class=\"dataframe\">\n",
       "  <thead>\n",
       "    <tr style=\"text-align: right;\">\n",
       "      <th></th>\n",
       "      <th>Unnamed: 0</th>\n",
       "      <th>x1</th>\n",
       "      <th>y1</th>\n",
       "      <th>x2</th>\n",
       "      <th>y2</th>\n",
       "      <th>Class</th>\n",
       "      <th>image</th>\n",
       "      <th>label</th>\n",
       "    </tr>\n",
       "  </thead>\n",
       "  <tbody>\n",
       "    <tr>\n",
       "      <th>0</th>\n",
       "      <td>0</td>\n",
       "      <td>39</td>\n",
       "      <td>116</td>\n",
       "      <td>569</td>\n",
       "      <td>375</td>\n",
       "      <td>14</td>\n",
       "      <td>00001.jpg</td>\n",
       "      <td>Audi TTS</td>\n",
       "    </tr>\n",
       "    <tr>\n",
       "      <th>1</th>\n",
       "      <td>1</td>\n",
       "      <td>36</td>\n",
       "      <td>116</td>\n",
       "      <td>868</td>\n",
       "      <td>587</td>\n",
       "      <td>3</td>\n",
       "      <td>00002.jpg</td>\n",
       "      <td>Acura TL</td>\n",
       "    </tr>\n",
       "    <tr>\n",
       "      <th>2</th>\n",
       "      <td>2</td>\n",
       "      <td>85</td>\n",
       "      <td>109</td>\n",
       "      <td>601</td>\n",
       "      <td>381</td>\n",
       "      <td>91</td>\n",
       "      <td>00003.jpg</td>\n",
       "      <td>Dodge Dakota Club</td>\n",
       "    </tr>\n",
       "    <tr>\n",
       "      <th>3</th>\n",
       "      <td>3</td>\n",
       "      <td>621</td>\n",
       "      <td>393</td>\n",
       "      <td>1484</td>\n",
       "      <td>1096</td>\n",
       "      <td>134</td>\n",
       "      <td>00004.jpg</td>\n",
       "      <td>Hyundai Sonata Hybrid</td>\n",
       "    </tr>\n",
       "    <tr>\n",
       "      <th>4</th>\n",
       "      <td>4</td>\n",
       "      <td>14</td>\n",
       "      <td>36</td>\n",
       "      <td>133</td>\n",
       "      <td>99</td>\n",
       "      <td>106</td>\n",
       "      <td>00005.jpg</td>\n",
       "      <td>Ford F-450 Super Duty Crew</td>\n",
       "    </tr>\n",
       "  </tbody>\n",
       "</table>\n",
       "</div>"
      ],
      "text/plain": [
       "   Unnamed: 0   x1   y1    x2    y2  Class      image  \\\n",
       "0           0   39  116   569   375     14  00001.jpg   \n",
       "1           1   36  116   868   587      3  00002.jpg   \n",
       "2           2   85  109   601   381     91  00003.jpg   \n",
       "3           3  621  393  1484  1096    134  00004.jpg   \n",
       "4           4   14   36   133    99    106  00005.jpg   \n",
       "\n",
       "                        label  \n",
       "0                    Audi TTS  \n",
       "1                    Acura TL  \n",
       "2           Dodge Dakota Club  \n",
       "3       Hyundai Sonata Hybrid  \n",
       "4  Ford F-450 Super Duty Crew  "
      ]
     },
     "execution_count": 118,
     "metadata": {},
     "output_type": "execute_result"
    }
   ],
   "source": [
    "df2['label'] = df2.apply(lambda x: fixed_labels_for_2[x['Class'] - 1], axis=1)\n",
    "df2.head()"
   ]
  },
  {
   "cell_type": "code",
   "execution_count": 119,
   "metadata": {},
   "outputs": [
    {
     "data": {
      "text/html": [
       "<div>\n",
       "<style scoped>\n",
       "    .dataframe tbody tr th:only-of-type {\n",
       "        vertical-align: middle;\n",
       "    }\n",
       "\n",
       "    .dataframe tbody tr th {\n",
       "        vertical-align: top;\n",
       "    }\n",
       "\n",
       "    .dataframe thead th {\n",
       "        text-align: right;\n",
       "    }\n",
       "</style>\n",
       "<table border=\"1\" class=\"dataframe\">\n",
       "  <thead>\n",
       "    <tr style=\"text-align: right;\">\n",
       "      <th></th>\n",
       "      <th>id</th>\n",
       "      <th>year</th>\n",
       "      <th>make</th>\n",
       "      <th>model</th>\n",
       "      <th>trim1</th>\n",
       "      <th>trim2</th>\n",
       "      <th>label</th>\n",
       "      <th>file</th>\n",
       "      <th>Unnamed: 0</th>\n",
       "      <th>x1</th>\n",
       "      <th>y1</th>\n",
       "      <th>x2</th>\n",
       "      <th>y2</th>\n",
       "      <th>Class</th>\n",
       "      <th>image</th>\n",
       "    </tr>\n",
       "  </thead>\n",
       "  <tbody>\n",
       "    <tr>\n",
       "      <th>0</th>\n",
       "      <td>0004d4463b50</td>\n",
       "      <td>2014.0</td>\n",
       "      <td>Acura</td>\n",
       "      <td>TL</td>\n",
       "      <td>TL</td>\n",
       "      <td>w/SE</td>\n",
       "      <td>Acura TL</td>\n",
       "      <td>0004d4463b50</td>\n",
       "      <td>NaN</td>\n",
       "      <td>NaN</td>\n",
       "      <td>NaN</td>\n",
       "      <td>NaN</td>\n",
       "      <td>NaN</td>\n",
       "      <td>NaN</td>\n",
       "      <td>NaN</td>\n",
       "    </tr>\n",
       "    <tr>\n",
       "      <th>1</th>\n",
       "      <td>00087a6bd4dc</td>\n",
       "      <td>2014.0</td>\n",
       "      <td>Acura</td>\n",
       "      <td>RLX</td>\n",
       "      <td>RLX</td>\n",
       "      <td>w/Tech</td>\n",
       "      <td>Acura RLX</td>\n",
       "      <td>00087a6bd4dc</td>\n",
       "      <td>NaN</td>\n",
       "      <td>NaN</td>\n",
       "      <td>NaN</td>\n",
       "      <td>NaN</td>\n",
       "      <td>NaN</td>\n",
       "      <td>NaN</td>\n",
       "      <td>NaN</td>\n",
       "    </tr>\n",
       "    <tr>\n",
       "      <th>2</th>\n",
       "      <td>000aa097d423</td>\n",
       "      <td>2012.0</td>\n",
       "      <td>Mazda</td>\n",
       "      <td>MAZDA6</td>\n",
       "      <td>MAZDA6</td>\n",
       "      <td>i Sport</td>\n",
       "      <td>Mazda MAZDA6</td>\n",
       "      <td>000aa097d423</td>\n",
       "      <td>NaN</td>\n",
       "      <td>NaN</td>\n",
       "      <td>NaN</td>\n",
       "      <td>NaN</td>\n",
       "      <td>NaN</td>\n",
       "      <td>NaN</td>\n",
       "      <td>NaN</td>\n",
       "    </tr>\n",
       "    <tr>\n",
       "      <th>3</th>\n",
       "      <td>000f19f6e7d4</td>\n",
       "      <td>2016.0</td>\n",
       "      <td>Chevrolet</td>\n",
       "      <td>Camaro</td>\n",
       "      <td>Camaro</td>\n",
       "      <td>SS</td>\n",
       "      <td>Chevrolet Camaro</td>\n",
       "      <td>000f19f6e7d4</td>\n",
       "      <td>NaN</td>\n",
       "      <td>NaN</td>\n",
       "      <td>NaN</td>\n",
       "      <td>NaN</td>\n",
       "      <td>NaN</td>\n",
       "      <td>NaN</td>\n",
       "      <td>NaN</td>\n",
       "    </tr>\n",
       "    <tr>\n",
       "      <th>4</th>\n",
       "      <td>00144e887ae9</td>\n",
       "      <td>2015.0</td>\n",
       "      <td>Acura</td>\n",
       "      <td>TLX</td>\n",
       "      <td>TLX</td>\n",
       "      <td>SH-AWD V6 w/Advance Pkg</td>\n",
       "      <td>Acura TLX</td>\n",
       "      <td>00144e887ae9</td>\n",
       "      <td>NaN</td>\n",
       "      <td>NaN</td>\n",
       "      <td>NaN</td>\n",
       "      <td>NaN</td>\n",
       "      <td>NaN</td>\n",
       "      <td>NaN</td>\n",
       "      <td>NaN</td>\n",
       "    </tr>\n",
       "  </tbody>\n",
       "</table>\n",
       "</div>"
      ],
      "text/plain": [
       "             id    year       make   model   trim1                    trim2  \\\n",
       "0  0004d4463b50  2014.0      Acura      TL      TL                     w/SE   \n",
       "1  00087a6bd4dc  2014.0      Acura     RLX     RLX                   w/Tech   \n",
       "2  000aa097d423  2012.0      Mazda  MAZDA6  MAZDA6                  i Sport   \n",
       "3  000f19f6e7d4  2016.0  Chevrolet  Camaro  Camaro                       SS   \n",
       "4  00144e887ae9  2015.0      Acura     TLX     TLX  SH-AWD V6 w/Advance Pkg   \n",
       "\n",
       "              label          file  Unnamed: 0  x1  y1  x2  y2  Class image  \n",
       "0          Acura TL  0004d4463b50         NaN NaN NaN NaN NaN    NaN   NaN  \n",
       "1         Acura RLX  00087a6bd4dc         NaN NaN NaN NaN NaN    NaN   NaN  \n",
       "2      Mazda MAZDA6  000aa097d423         NaN NaN NaN NaN NaN    NaN   NaN  \n",
       "3  Chevrolet Camaro  000f19f6e7d4         NaN NaN NaN NaN NaN    NaN   NaN  \n",
       "4         Acura TLX  00144e887ae9         NaN NaN NaN NaN NaN    NaN   NaN  "
      ]
     },
     "execution_count": 119,
     "metadata": {},
     "output_type": "execute_result"
    }
   ],
   "source": [
    "df['file'] = df['id']\n",
    "df2['file'] = df2.apply(lambda x: x['image'].split('.')[0], axis=1)\n",
    "\n",
    "temp = pd.concat([df, df2])\n",
    "temp.head()"
   ]
  },
  {
   "cell_type": "code",
   "execution_count": 120,
   "metadata": {},
   "outputs": [],
   "source": [
    "final_df = temp[['file', 'label']]\n",
    "final_df = final_df[final_df['label'].map(final_df['label'].value_counts()) > 10]\n",
    "final_df.head()\n",
    "final_df.to_csv('no_electric.csv')"
   ]
  },
  {
   "cell_type": "code",
   "execution_count": 121,
   "metadata": {},
   "outputs": [
    {
     "name": "stdout",
     "output_type": "stream",
     "text": [
      "Unique Label Count: 284\n",
      "Number of labels: 13963\n"
     ]
    }
   ],
   "source": [
    "print(f\"Unique Label Count: {len(pd.unique(final_df['label']))}\")\n",
    "print(f\"Number of labels: {len(final_df['label'])}\")"
   ]
  },
  {
   "cell_type": "code",
   "execution_count": 129,
   "metadata": {},
   "outputs": [
    {
     "name": "stdout",
     "output_type": "stream",
     "text": [
      "Honda Accord                   236\n",
      "Honda Civic                    217\n",
      "Toyota Camry                   167\n",
      "Toyota Corolla                 163\n",
      "GMC Terrain                    152\n",
      "                              ... \n",
      "Mercedes-Benz GLA               11\n",
      "Volkswagen CC                   11\n",
      "Toyota Prius Plug-in Hybrid     11\n",
      "MINI Countryman                 11\n",
      "Audi Q5                         11\n",
      "Name: label, Length: 284, dtype: int64\n"
     ]
    },
    {
     "data": {
      "image/png": "[encoded data removed]",
      "text/plain": [
       "<Figure size 640x480 with 1 Axes>"
      ]
     },
     "metadata": {},
     "output_type": "display_data"
    }
   ],
   "source": [
    "fig, ax = plt.subplots()\n",
    "# ax.set_xticklabels(f\"{}\")\n",
    "\n",
    "\n",
    "print(final_df['label'].value_counts())\n",
    "final_df['label'].value_counts().hist(ax=ax, bins=100)\n",
    "ax.set_title(\"Label Distribution\")\n",
    "ax.set_ylabel(\"Number of labels that have this many samples\")\n",
    "ax.set_xlabel(\"Number Samples\")\n",
    "\n",
    "test = final_df['label'].value_counts()"
   ]
  },
  {
   "attachments": {},
   "cell_type": "markdown",
   "metadata": {},
   "source": [
    "## Train, Valid, Test Split"
   ]
  },
  {
   "attachments": {},
   "cell_type": "markdown",
   "metadata": {},
   "source": [
    "#### Verify each train, valid and test dataset have representation of each label"
   ]
  },
  {
   "cell_type": "code",
   "execution_count": 130,
   "metadata": {},
   "outputs": [
    {
     "name": "stdout",
     "output_type": "stream",
     "text": [
      "Number of labels: 10681\n",
      "Number of labels: 2095\n",
      "Number of labels: 1187\n",
      "284\n",
      "284\n",
      "284\n"
     ]
    }
   ],
   "source": [
    "train, valid = train_test_split(final_df, test_size=0.15, stratify=final_df['label'])\n",
    "train, test = train_test_split(train, test_size=0.10, stratify=train['label'])\n",
    "\n",
    "print(f\"Number of labels: {len(train['label'])}\")\n",
    "print(f\"Number of labels: {len(valid['label'])}\")\n",
    "print(f\"Number of labels: {len(test['label'])}\")\n",
    "\n",
    "print(len(pd.unique(train['label'])))\n",
    "print(len(pd.unique(valid['label'])))\n",
    "print(len(pd.unique(test['label'])))"
   ]
  },
  {
   "cell_type": "code",
   "execution_count": 131,
   "metadata": {},
   "outputs": [],
   "source": [
    "train.to_csv(\"no_electric_train.csv\")\n",
    "valid.to_csv(\"no_electric_valid.csv\")\n",
    "test.to_csv(\"no_electric_test.csv\")"
   ]
  }
 ],
 "metadata": {
  "kernelspec": {
   "display_name": "pytorch38",
   "language": "python",
   "name": "python3"
  },
  "language_info": {
   "codemirror_mode": {
    "name": "ipython",
    "version": 3
   },
   "file_extension": ".py",
   "mimetype": "text/x-python",
   "name": "python",
   "nbconvert_exporter": "python",
   "pygments_lexer": "ipython3",
   "version": "3.10.6"
  },
  "orig_nbformat": 4
 },
 "nbformat": 4,
 "nbformat_minor": 2
}
