{
 "cells": [
  {
   "cell_type": "code",
   "execution_count": 26,
   "metadata": {},
   "outputs": [],
   "source": [
    "import pandas as pd\n",
    "import numpy as np\n",
    "import requests\n",
    "import datetime"
   ]
  },
  {
   "cell_type": "code",
   "execution_count": 27,
   "metadata": {},
   "outputs": [],
   "source": [
    "# This will be the function that pulls the rolling data. Will pull the past 8 months\n",
    "def pull_data(df):\n",
    "    today = datetime.datetime.now()\n",
    "    time_format = '%Y-%m-%dT%H:%M:%S.%fZ'\n",
    "\n",
    "    for i in range(4, 252, 3):\n",
    "        date_end = datetime.date.today()\n",
    "        delta_end = datetime.timedelta(days=i)\n",
    "        delta_start = datetime.timedelta(days=i+3)\n",
    "        date_end = date_end - delta_end\n",
    "        date_start = today - delta_start\n",
    "\n",
    "        date_end = date_end.strftime(\"%Y-%m-%d\")\n",
    "        date_start = date_start.strftime(\"%Y-%m-%d\")\n",
    "        response = requests.get(f\"http://144.39.204.242:11236/evr/leviton/evr?dateStart={date_start}&dateEnd={date_end}\")\n",
    "        usage = response.json()\n",
    "\n",
    "        ten_minute_averages = {\"timestamp\": [], \"power\": [], \"isDay\": [], \"hour\": []}\n",
    "\n",
    "        for i in range(0, len(usage['data']), 85):\n",
    "            values = usage['data'][i:i+120]\n",
    "            power = [value['power'] for value in values]\n",
    "            ten_minute_averages[\"timestamp\"].append(values[0]['timestamp'])\n",
    "            ten_minute_averages[\"power\"].append(np.average(power) * 1000)\n",
    "            test_date = datetime.datetime.strptime(values[0]['timestamp'], time_format)\n",
    "            test_date = test_date - datetime.timedelta(hours=6)\n",
    "            isDay =  1 if test_date.hour >= 7 and test_date.hour <= 19 else 0 # From 7:00 AM to 7 PM is day\n",
    "            hour = test_date.hour\n",
    "            ten_minute_averages[\"isDay\"].append(isDay)\n",
    "            ten_minute_averages[\"hour\"].append(hour)\n",
    "        \n",
    "        temp_df = pd.DataFrame(ten_minute_averages)\n",
    "        df = pd.concat([df, temp_df], ignore_index=True)\n",
    "    \n",
    "    \n",
    "    return df"
   ]
  },
  {
   "cell_type": "code",
   "execution_count": 28,
   "metadata": {},
   "outputs": [],
   "source": [
    "df = pd.DataFrame(columns=[\"timestamp\", \"power\", \"isDay\", \"hour\"])\n",
    "df= pull_data(df)\n",
    "df.tail()\n",
    "df.to_csv(\"power_usage.csv\")"
   ]
  },
  {
   "cell_type": "code",
   "execution_count": 29,
   "metadata": {},
   "outputs": [],
   "source": [
    "# time_format = '%Y-%m-%dT%H:%M:%S.%fZ'\n",
    "# test = datetime.datetime.strptime('2023-03-22T23:59:52.878Z', time_format)"
   ]
  }
 ],
 "metadata": {
  "kernelspec": {
   "display_name": "torch",
   "language": "python",
   "name": "python3"
  },
  "language_info": {
   "codemirror_mode": {
    "name": "ipython",
    "version": 3
   },
   "file_extension": ".py",
   "mimetype": "text/x-python",
   "name": "python",
   "nbconvert_exporter": "python",
   "pygments_lexer": "ipython3",
   "version": "3.9.15"
  },
  "orig_nbformat": 4
 },
 "nbformat": 4,
 "nbformat_minor": 2
}
